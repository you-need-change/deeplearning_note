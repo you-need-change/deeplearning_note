{
 "cells": [
  {
   "cell_type": "markdown",
   "metadata": {},
   "source": [
    "## 深度学习的模型\n",
    "\n",
    "1.CNN\n",
    "\n",
    "2.RNN\n",
    "\n",
    "3.ResNet\n",
    "\n",
    "4.GhostNetV2\n",
    "\n",
    "5.Mobile-Forner\n",
    "\n",
    "6.MobileViTV3\n",
    "\n",
    "7.YOLO v8\n",
    "\n",
    "8.YOLO v10\n"
   ]
  },
  {
   "cell_type": "markdown",
   "metadata": {},
   "source": [
    "## 目标检测  \n",
    "### 1、评价指标  \n",
    "#### 1、mAP  \n",
    "1. AP是一个P-R图的曲线面积，P-R图是对于不同置信度的精度、召回率平面曲线  \n",
    "mAP是所有的类别AP值的平均值  \n",
    "1. 置信度判段时前景、背景"
   ]
  },
  {
   "cell_type": "markdown",
   "metadata": {},
   "source": [
    "### 3、损失函数  \n",
    "1. 位置误差$$\\lambda_{coord} \\sum_{i=0}^{S^2} \\sum_{j=0}^B ll_{ij}^{obj} (x_i -\\widehat{x_i})^2 +(y_i-\\widehat{y_i})^2$$  \n",
    "$$+ \\lambda \\sum_{i=0}^{S^2} \\sum_{j=0}^B ll_{ij}^{obj} (\\sqrt \\omega - \\sqrt{\\widehat \\omega})^2 + (\\sqrt h - \\sqrt{\\widehat h})^2$$  \n",
    "2. 置信度误差：含有object的$$+ \\sum_{i=0}^{S^2} \\sum_{j=0}^B ll_{ij}^{obj} (C_i - \\widehat{C_i})^2$$  \n",
    "1. 置信度误差：不含object的$$+ \\lambda_{noobj} \\sum_{i=0}^{S^2} \\sum_{j=0}^B ll_{ij}^{noobj} (C_i - \\widehat{C_i})^2$$\n",
    "1. 分类误差：$$+ \\sum_{i=0}^{S^2} ll_{ij}^{obj} \\sum_{c \\in class} (p_i(c) - \\widehat{p_i(c)})^2$$"
   ]
  },
  {
   "cell_type": "markdown",
   "metadata": {},
   "source": []
  },
  {
   "cell_type": "markdown",
   "metadata": {},
   "source": [
    "### 4. Yolov1的特点\n",
    "1. 缺点：每个Cell只能预测一个类别，重叠的物体难以检测到  \n",
    "长宽比例可选但单一  \n",
    "1. 优点：快速，简单！"
   ]
  },
  {
   "cell_type": "markdown",
   "metadata": {},
   "source": []
  },
  {
   "cell_type": "markdown",
   "metadata": {},
   "source": []
  }
 ],
 "metadata": {
  "kernelspec": {
   "display_name": "pytorch",
   "language": "python",
   "name": "python3"
  },
  "language_info": {
   "codemirror_mode": {
    "name": "ipython",
    "version": 3
   },
   "file_extension": ".py",
   "mimetype": "text/x-python",
   "name": "python",
   "nbconvert_exporter": "python",
   "pygments_lexer": "ipython3",
   "version": "3.8.18"
  }
 },
 "nbformat": 4,
 "nbformat_minor": 2
}
